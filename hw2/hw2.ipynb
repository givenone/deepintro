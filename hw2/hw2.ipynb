{
 "cells": [
  {
   "cell_type": "code",
   "execution_count": 60,
   "metadata": {},
   "outputs": [
    {
     "data": {
      "image/png": "[encoded data removed]",
      "text/plain": [
       "<Figure size 432x288 with 2 Axes>"
      ]
     },
     "metadata": {
      "needs_background": "light"
     },
     "output_type": "display_data"
    }
   ],
   "source": [
    "import numpy as np\n",
    "import matplotlib.pyplot as plt\n",
    "\n",
    "np.random.seed(1337)\n",
    "lam = 0.1\n",
    "n = 1000\n",
    "d = 100\n",
    "n_step = 100\n",
    "step_size = 0.01\n",
    "\n",
    "def loss(w, x, y, lam) :\n",
    "    height, width = x.shape\n",
    "    s = 0\n",
    "    for i in range(height) :\n",
    "        s += max(0, 1-y[i] * np.dot(w, x[i]))\n",
    "    s /= height\n",
    "    s += lam / 2 * np.linalg.norm(w)\n",
    "    return s\n",
    "\n",
    "def accuracy(w, x, y) : \n",
    "    height= y.shape[0]\n",
    "    res = np.sign(np.matmul(x, w))\n",
    "    correct = sum(np.equal(res, y))\n",
    "    return correct / height\n",
    "\n",
    "def subgradient(w, x, y, lam) :\n",
    "    height= y.shape[0]\n",
    "    d = w.shape[0]\n",
    "    \n",
    "    vec = np.zeros_like(w)\n",
    "    for i in range(height) :\n",
    "        xi = x[i]\n",
    "        yi = y[i]\n",
    "        if yi * (np.dot(xi,w)) < 1 :\n",
    "            vec += -yi * xi\n",
    "    vec /= height\n",
    "        \n",
    "    g = lam * w  + vec\n",
    "    return g\n",
    "\n",
    "\n",
    "X = np.vstack([np.random.normal(0.1, 1, (n//2, d)),\n",
    "               np.random.normal(-0.1, 1, (n//2, d))])\n",
    "y = np.hstack([np.ones(n//2), -1*np.ones(n//2)])\n",
    "w0 = np.random.normal(0, 1, d)\n",
    "\n",
    "w = w0\n",
    "\n",
    "step = []\n",
    "losses = []\n",
    "accuracies = []\n",
    "\n",
    "for i in range(n_step) :\n",
    "    fun_val = loss(w = w, x = X, y = y, lam = lam)\n",
    "    accur = accuracy(w = w, x = X, y = y)\n",
    "    step.append(i+1)\n",
    "    losses.append(fun_val)\n",
    "    accuracies.append(accur)\n",
    "    #print(accur)\n",
    "    g = subgradient(w, X, y, lam)\n",
    "    w = w - g * step_size\n",
    "\n",
    "plt.subplot(1, 2, 1)\n",
    "plt.xlabel(\"Iteration\")\n",
    "plt.ylabel(\"Loss Function\")\n",
    "plt.plot(step, losses)\n",
    "\n",
    "plt.subplot(1, 2, 2)\n",
    "plt.xlabel(\"Iteration\")\n",
    "plt.ylabel(\"Accuracy\")\n",
    "plt.plot(step, accuracies)\n",
    "\n",
    "plt.show()"
   ]
  },
  {
   "cell_type": "code",
   "execution_count": null,
   "metadata": {},
   "outputs": [],
   "source": []
  },
  {
   "cell_type": "code",
   "execution_count": null,
   "metadata": {},
   "outputs": [],
   "source": []
  },
  {
   "cell_type": "code",
   "execution_count": 49,
   "metadata": {},
   "outputs": [
    {
     "data": {
      "text/plain": [
       "1000"
      ]
     },
     "execution_count": 49,
     "metadata": {},
     "output_type": "execute_result"
    }
   ],
   "source": [
    "y = np.hstack([np.ones(n//2), -1*np.ones(n//2)])\n",
    "w0 = np.random.normal(0, 1, d)\n",
    "h, w  = X.shape\n",
    "h"
   ]
  },
  {
   "cell_type": "code",
   "execution_count": 19,
   "metadata": {},
   "outputs": [],
   "source": [
    "X = np.vstack([np.random.normal(0.1, 1, (n//2, d)),\n",
    "               np.random.normal(-0.1, 1, (n//2, d))])"
   ]
  },
  {
   "cell_type": "code",
   "execution_count": 28,
   "metadata": {},
   "outputs": [
    {
     "data": {
      "text/plain": [
       "481"
      ]
     },
     "execution_count": 28,
     "metadata": {},
     "output_type": "execute_result"
    }
   ],
   "source": [
    "sum(np.equal(y, np.sign(np.matmul(X, w0))))"
   ]
  },
  {
   "cell_type": "code",
   "execution_count": 61,
   "metadata": {},
   "outputs": [
    {
     "data": {
      "text/plain": [
       "array([0., 0., 0., 0., 0., 0., 0., 0., 0., 0., 0., 0., 0., 0., 0., 0., 0.,\n",
       "       0., 0., 0., 0., 0., 0., 0., 0., 0., 0., 0., 0., 0., 0., 0., 0., 0.,\n",
       "       0., 0., 0., 0., 0., 0., 0., 0., 0., 0., 0., 0., 0., 0., 0., 0., 0.,\n",
       "       0., 0., 0., 0., 0., 0., 0., 0., 0., 0., 0., 0., 0., 0., 0., 0., 0.,\n",
       "       0., 0., 0., 0., 0., 0., 0., 0., 0., 0., 0., 0., 0., 0., 0., 0., 0.,\n",
       "       0., 0., 0., 0., 0., 0., 0., 0., 0., 0., 0., 0., 0., 0., 0.])"
      ]
     },
     "execution_count": 61,
     "metadata": {},
     "output_type": "execute_result"
    }
   ],
   "source": [
    "vec = np.zeros_like(w0)\n",
    "vec"
   ]
  },
  {
   "cell_type": "code",
   "execution_count": 62,
   "metadata": {},
   "outputs": [
    {
     "ename": "ModuleNotFoundError",
     "evalue": "No module named 'autograd'",
     "output_type": "error",
     "traceback": [
      "\u001b[1;31m---------------------------------------------------------------------------\u001b[0m",
      "\u001b[1;31mModuleNotFoundError\u001b[0m                       Traceback (most recent call last)",
      "\u001b[1;32m<ipython-input-62-ca4f10f54b2d>\u001b[0m in \u001b[0;36m<module>\u001b[1;34m\u001b[0m\n\u001b[1;32m----> 1\u001b[1;33m \u001b[1;32mimport\u001b[0m \u001b[0mautograd\u001b[0m\u001b[1;33m.\u001b[0m\u001b[0mnumpy\u001b[0m \u001b[1;32mas\u001b[0m \u001b[0mnp\u001b[0m\u001b[1;33m\u001b[0m\u001b[1;33m\u001b[0m\u001b[0m\n\u001b[0m\u001b[0;32m      2\u001b[0m \u001b[1;32mfrom\u001b[0m \u001b[0mautograd\u001b[0m \u001b[1;32mimport\u001b[0m \u001b[0mgrad\u001b[0m\u001b[1;33m\u001b[0m\u001b[1;33m\u001b[0m\u001b[0m\n\u001b[0;32m      3\u001b[0m \u001b[0mnp\u001b[0m\u001b[1;33m.\u001b[0m\u001b[0mrandom\u001b[0m\u001b[1;33m.\u001b[0m\u001b[0mseed\u001b[0m\u001b[1;33m(\u001b[0m\u001b[1;36m1337\u001b[0m\u001b[1;33m)\u001b[0m\u001b[1;33m\u001b[0m\u001b[1;33m\u001b[0m\u001b[0m\n\u001b[0;32m      4\u001b[0m \u001b[1;33m\u001b[0m\u001b[0m\n\u001b[0;32m      5\u001b[0m \u001b[0mn\u001b[0m \u001b[1;33m=\u001b[0m \u001b[1;36m5\u001b[0m\u001b[1;33m\u001b[0m\u001b[1;33m\u001b[0m\u001b[0m\n",
      "\u001b[1;31mModuleNotFoundError\u001b[0m: No module named 'autograd'"
     ]
    }
   ],
   "source": [
    "import autograd.numpy as np\n",
    "from autograd import grad\n",
    "np.random.seed(1337)\n",
    "\n",
    "n = 5\n",
    "A = np.random.normal(0, 1, (n, n))\n",
    "S = A.dot(A.T)"
   ]
  },
  {
   "cell_type": "code",
   "execution_count": null,
   "metadata": {},
   "outputs": [],
   "source": []
  }
 ],
 "metadata": {
  "kernelspec": {
   "display_name": "Python 3",
   "language": "python",
   "name": "python3"
  },
  "language_info": {
   "codemirror_mode": {
    "name": "ipython",
    "version": 3
   },
   "file_extension": ".py",
   "mimetype": "text/x-python",
   "name": "python",
   "nbconvert_exporter": "python",
   "pygments_lexer": "ipython3",
   "version": "3.8.0"
  }
 },
 "nbformat": 4,
 "nbformat_minor": 4
}
