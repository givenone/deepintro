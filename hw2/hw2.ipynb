{
 "cells": [
  {
   "cell_type": "code",
   "execution_count": 50,
   "metadata": {},
   "outputs": [
    {
     "data": {
      "image/png": "[encoded data removed]",
      "text/plain": [
       "<Figure size 432x288 with 2 Axes>"
      ]
     },
     "metadata": {
      "needs_background": "light"
     },
     "output_type": "display_data"
    }
   ],
   "source": [
    "import numpy as np\n",
    "import matplotlib.pyplot as plt\n",
    "\n",
    "np.random.seed(1337)\n",
    "lam = 0.1\n",
    "n = 1000\n",
    "d = 100\n",
    "n_step = 100\n",
    "step_size = 0.01\n",
    "\n",
    "# Loss function\n",
    "def loss(w, x, y, lam) :\n",
    "    height, width = x.shape\n",
    "    s = 0\n",
    "    for i in range(height) :\n",
    "        s += max(0, 1-y[i] * np.dot(w, x[i]))\n",
    "    s /= height\n",
    "    s += lam / 2 * np.linalg.norm(w)\n",
    "    return s\n",
    "\n",
    "\n",
    "def accuracy(w, x, y) : \n",
    "    height= y.shape[0]\n",
    "    res = np.sign(np.matmul(x, w))\n",
    "    correct = sum(np.equal(res, y))\n",
    "    return correct / height\n",
    "\n",
    "def subgradient(w, x, y, lam) :\n",
    "    height= y.shape[0]\n",
    "    d = w.shape[0]\n",
    "    \n",
    "    vec = np.zeros_like(w)\n",
    "    for i in range(height) :\n",
    "        xi = x[i]\n",
    "        yi = y[i]\n",
    "        if yi * (np.dot(xi,w)) < 1 :\n",
    "            vec += -yi * xi #sigma(g_i)\n",
    "    vec /= height # divide by n\n",
    "        \n",
    "    g = lam * w  + vec # λW + sigma(g_i)\n",
    "    return g\n",
    "\n",
    "\n",
    "X = np.vstack([np.random.normal(0.1, 1, (n//2, d)),\n",
    "               np.random.normal(-0.1, 1, (n//2, d))])\n",
    "y = np.hstack([np.ones(n//2), -1*np.ones(n//2)])\n",
    "w0 = np.random.normal(0, 1, d)\n",
    "\n",
    "w = w0\n",
    "\n",
    "step = []\n",
    "losses = []\n",
    "accuracies = []\n",
    "\n",
    "for i in range(n_step) :\n",
    "    fun_val = loss(w = w, x = X, y = y, lam = lam)\n",
    "    accur = accuracy(w = w, x = X, y = y)\n",
    "    step.append(i+1)\n",
    "    losses.append(fun_val)\n",
    "    accuracies.append(accur)\n",
    "    g = subgradient(w, X, y, lam)\n",
    "    w = w - g * step_size # update\n",
    "\n",
    "plt.subplot(1, 2, 1)\n",
    "plt.xlabel(\"Iteration\")\n",
    "plt.ylabel(\"Loss Function\")\n",
    "plt.plot(step, losses)\n",
    "\n",
    "plt.subplot(1, 2, 2)\n",
    "plt.xlabel(\"Iteration\")\n",
    "plt.ylabel(\"Accuracy\")\n",
    "plt.plot(step, accuracies)\n",
    "\n",
    "plt.show()"
   ]
  },
  {
   "cell_type": "code",
   "execution_count": null,
   "metadata": {},
   "outputs": [],
   "source": []
  },
  {
   "cell_type": "code",
   "execution_count": null,
   "metadata": {},
   "outputs": [],
   "source": []
  },
  {
   "cell_type": "code",
   "execution_count": 49,
   "metadata": {},
   "outputs": [
    {
     "data": {
      "text/plain": [
       "1000"
      ]
     },
     "execution_count": 49,
     "metadata": {},
     "output_type": "execute_result"
    }
   ],
   "source": [
    "y = np.hstack([np.ones(n//2), -1*np.ones(n//2)])\n",
    "w0 = np.random.normal(0, 1, d)\n",
    "h, w  = X.shape\n",
    "h"
   ]
  },
  {
   "cell_type": "code",
   "execution_count": 19,
   "metadata": {},
   "outputs": [],
   "source": [
    "X = np.vstack([np.random.normal(0.1, 1, (n//2, d)),\n",
    "               np.random.normal(-0.1, 1, (n//2, d))])"
   ]
  },
  {
   "cell_type": "code",
   "execution_count": 28,
   "metadata": {},
   "outputs": [
    {
     "data": {
      "text/plain": [
       "481"
      ]
     },
     "execution_count": 28,
     "metadata": {},
     "output_type": "execute_result"
    }
   ],
   "source": [
    "sum(np.equal(y, np.sign(np.matmul(X, w0))))"
   ]
  },
  {
   "cell_type": "code",
   "execution_count": 61,
   "metadata": {},
   "outputs": [
    {
     "data": {
      "text/plain": [
       "array([0., 0., 0., 0., 0., 0., 0., 0., 0., 0., 0., 0., 0., 0., 0., 0., 0.,\n",
       "       0., 0., 0., 0., 0., 0., 0., 0., 0., 0., 0., 0., 0., 0., 0., 0., 0.,\n",
       "       0., 0., 0., 0., 0., 0., 0., 0., 0., 0., 0., 0., 0., 0., 0., 0., 0.,\n",
       "       0., 0., 0., 0., 0., 0., 0., 0., 0., 0., 0., 0., 0., 0., 0., 0., 0.,\n",
       "       0., 0., 0., 0., 0., 0., 0., 0., 0., 0., 0., 0., 0., 0., 0., 0., 0.,\n",
       "       0., 0., 0., 0., 0., 0., 0., 0., 0., 0., 0., 0., 0., 0., 0.])"
      ]
     },
     "execution_count": 61,
     "metadata": {},
     "output_type": "execute_result"
    }
   ],
   "source": [
    "vec = np.zeros_like(w0)\n",
    "vec"
   ]
  },
  {
   "cell_type": "code",
   "execution_count": 49,
   "metadata": {},
   "outputs": [
    {
     "data": {
      "text/plain": [
       "Text(0.5, 0, 'func_val')"
      ]
     },
     "execution_count": 49,
     "metadata": {},
     "output_type": "execute_result"
    },
    {
     "data": {
      "image/png": "[encoded data removed]",
      "text/plain": [
       "<Figure size 432x288 with 1 Axes>"
      ]
     },
     "metadata": {
      "needs_background": "light"
     },
     "output_type": "display_data"
    }
   ],
   "source": [
    "import autograd.numpy as np\n",
    "from autograd import grad\n",
    "import matplotlib.pyplot as plt\n",
    "np.random.seed(1337)\n",
    "\n",
    "n = 5\n",
    "A = np.random.normal(0, 1, (n, n))\n",
    "S = A.dot(A.T)\n",
    "\n",
    "A0 = np.random.normal(0, 1, (n,n))\n",
    "X0 = A0.dot(A0.T)\n",
    "\n",
    "num_step = 500\n",
    "step_size = 0.01\n",
    "alpha = 0.1\n",
    "\n",
    "def obj_func(X) :\n",
    "    ip = np.trace(S.T.dot(X)) # inner product -> sum of traces\n",
    "    det = np.log(np.linalg.det(X)) # determinant\n",
    "    norm = alpha * np.sum(np.absolute(X)) # 1-norm of the matrix\n",
    "    return ip - det + norm\n",
    "\n",
    "# projection onto PSD cone\n",
    "# by 1. eigenvalue decomposition of matrix X (as X is PSD)\n",
    "# assume (lambda)n < 0\n",
    "# X=∑max{λi,0}vivTi\n",
    "# https://math.stackexchange.com/questions/2776803/matrix-projection-onto-positive-semi-definite-cone-with-respect-to-the-spectral\n",
    "def projection(X) :\n",
    "\n",
    "    e_val, e_vec = np.linalg.eig(X)\n",
    "    index = e_val.argsort()\n",
    "    e_vec = e_vec[:,index] # column vector\n",
    "    e_val = e_val[index]\n",
    "    \n",
    "    for i in range(n) : \n",
    "        e_val[i] = max(0.0, e_val[i]) #X=∑ni=1max{λi,0}vivTi\n",
    "    return e_vec.dot(np.diag(e_val)).dot(e_vec.T)\n",
    "\n",
    "# create a function to compute the gradient\n",
    "grad_fun = grad(obj_func)\n",
    "\n",
    "iteration = []\n",
    "f_val = []\n",
    "X = X0\n",
    "for i in range(num_step) :\n",
    "    f = obj_func(X)\n",
    "    X -= grad_fun(X) * step_size\n",
    "    X = projection(X)\n",
    "    iteration.append(i+1)\n",
    "    f_val.append(f)\n",
    "\n",
    "plt.title(\"Q2\")\n",
    "plt.plot(iteration, f_val)\n",
    "plt.xlabel(\"Iteration\")\n",
    "plt.xlabel(\"func_val\")"
   ]
  },
  {
   "cell_type": "code",
   "execution_count": 48,
   "metadata": {},
   "outputs": [
    {
     "name": "stdout",
     "output_type": "stream",
     "text": [
      "[13.93536356  6.90251583  0.30274365  1.13533947  2.67453675] [2 3 4 1 0]\n",
      "[[-0.67094495  0.38726814 -0.27448751  0.56257721 -0.08955308]\n",
      " [ 0.48676288  0.45257007  0.03028261  0.38552567  0.63929269]\n",
      " [ 0.28640925 -0.14282852 -0.94538031 -0.02997387 -0.05410541]\n",
      " [-0.13203515  0.69675928 -0.12507712 -0.69316261  0.0312174 ]\n",
      " [-0.46198618 -0.37326965 -0.11979715 -0.23130932  0.76117224]] [[-0.27448751  0.56257721 -0.08955308  0.38726814 -0.67094495]\n",
      " [ 0.03028261  0.38552567  0.63929269  0.45257007  0.48676288]\n",
      " [-0.94538031 -0.02997387 -0.05410541 -0.14282852  0.28640925]\n",
      " [-0.12507712 -0.69316261  0.0312174   0.69675928 -0.13203515]\n",
      " [-0.11979715 -0.23130932  0.76117224 -0.37326965 -0.46198618]]\n"
     ]
    }
   ],
   "source": [
    "ev, evec = np.linalg.eig(X0)\n",
    "print(ev, ev.argsort())\n",
    "print(evec, evec[:,ev.argsort()] )\n",
    "ev = ev[ev.argsort()]\n",
    "ev[0] = 0.0"
   ]
  }
 ],
 "metadata": {
  "kernelspec": {
   "display_name": "Python 3",
   "language": "python",
   "name": "python3"
  },
  "language_info": {
   "codemirror_mode": {
    "name": "ipython",
    "version": 3
   },
   "file_extension": ".py",
   "mimetype": "text/x-python",
   "name": "python",
   "nbconvert_exporter": "python",
   "pygments_lexer": "ipython3",
   "version": "3.8.0"
  }
 },
 "nbformat": 4,
 "nbformat_minor": 4
}
