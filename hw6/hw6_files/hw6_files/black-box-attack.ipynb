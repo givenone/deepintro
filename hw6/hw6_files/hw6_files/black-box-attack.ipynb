{
 "cells": [
  {
   "cell_type": "markdown",
   "metadata": {},
   "source": [
    "## Black-box attack exercise\n",
    "\n",
    "In this exercise, you will implement the following black-box attack.\n",
    "1. NES attack (NES)\n"
   ]
  },
  {
   "cell_type": "code",
   "execution_count": null,
   "metadata": {},
   "outputs": [],
   "source": [
    "from google.colab import drive\n",
    "\n",
    "drive.mount('/content/drive', force_remount=True)\n",
    "\n",
    "# enter the foldername in your Drive where you have saved the unzipped\n",
    "# 'cs231n' folder containing the '.py', 'classifiers' and 'datasets'\n",
    "# folders.\n",
    "# e.g. 'cs231n/assignments/assignment1/cs231n'\n",
    "FOLDERNAME = None\n",
    "\n",
    "assert FOLDERNAME is not None, \"[!] Enter the foldername.\"\n",
    "\n",
    "%cd /content/drive/My\\ Drive/$FOLDERNAME/data\n",
    "!bash download_data.sh\n",
    "%cd ../models\n",
    "!bash download_models.sh\n",
    "%cd .."
   ]
  },
  {
   "cell_type": "code",
   "execution_count": null,
   "metadata": {},
   "outputs": [],
   "source": [
    "import math\n",
    "import matplotlib.pyplot as plt\n",
    "import numpy as np\n",
    "import tensorflow.compat.v1 as tf\n",
    "tf.disable_eager_execution()\n",
    "\n",
    "from cifar10_input import CIFAR10Data\n",
    "from model import Model\n",
    "\n",
    "%load_ext autoreload\n",
    "%autoreload 2"
   ]
  },
  {
   "cell_type": "markdown",
   "metadata": {},
   "source": [
    "## Loading Cifar-10 test dataset"
   ]
  },
  {
   "cell_type": "code",
   "execution_count": null,
   "metadata": {},
   "outputs": [],
   "source": [
    "# Clear previously loaded data\n",
    "try:\n",
    "   del eval_data\n",
    "   print('Clearing previously loaded data')\n",
    "except:\n",
    "   pass\n",
    "\n",
    "# Load Cifar-10 test set\n",
    "print('Loading Cifar-10 test dataset')\n",
    "DATA_DIR = './data/cifar-10-batches-py'\n",
    "eval_data = CIFAR10Data(DATA_DIR).eval_data\n",
    "\n",
    "# Print the number of samples in the test set\n",
    "print('The number of the test data: {}'.format(eval_data.n))\n",
    "\n",
    "# Print the first 10 samples\n",
    "classes = ['plane', 'car', 'bird', 'cat', 'deer', 'dog', 'frog', 'horse', 'ship', 'truck']\n",
    "for i in range(10):\n",
    "    plt.subplot(2, 5, i + 1)\n",
    "    sample_image = eval_data.xs[i]\n",
    "    sample_label = eval_data.ys[i]\n",
    "    plt.imshow(sample_image.astype('uint8'))\n",
    "    plt.axis('off')\n",
    "    plt.title(classes[sample_label])"
   ]
  },
  {
   "cell_type": "markdown",
   "metadata": {},
   "source": [
    "## Restoring a naturally-trained ResNet classifier"
   ]
  },
  {
   "cell_type": "code",
   "execution_count": null,
   "metadata": {
    "scrolled": true
   },
   "outputs": [],
   "source": [
    "# Reset all graphs\n",
    "print('Clearing all graphs')\n",
    "tf.reset_default_graph()\n",
    "\n",
    "# Create a naturally-trained model\n",
    "print('Creating a ResNet model')\n",
    "model = Model(mode='eval')\n",
    "sess = tf.Session()\n",
    "\n",
    "# Restore parameters\n",
    "print('Restoring parameters')\n",
    "NAT_MODEL_DIR = './models/naturally_trained'\n",
    "model_file = tf.train.latest_checkpoint(NAT_MODEL_DIR)\n",
    "\n",
    "var_list = {}\n",
    "with tf.variable_scope('', reuse=True):\n",
    "  for var in tf.train.list_variables(model_file)[1:]:\n",
    "    if 'Momentum' not in var[0]:\n",
    "      var_list[var[0]] = tf.get_variable(name=var[0].replace('BatchNorm', 'batch_normalization'))\n",
    "\n",
    "saver = tf.train.Saver(var_list=var_list)\n",
    "saver.restore(sess, model_file)"
   ]
  },
  {
   "cell_type": "markdown",
   "metadata": {},
   "source": [
    "## Evaluating the model\n",
    "\n",
    "Before implementing attack methods, we have to evaluate the model for the following reasons.\n",
    "1. To check whether the model is successfuly restored. \n",
    "2. To get samples that are correctly classified. We don't have to attack misclassified samples."
   ]
  },
  {
   "cell_type": "code",
   "execution_count": null,
   "metadata": {},
   "outputs": [],
   "source": [
    "def evaluate(model, sess, data, indices, attack_method=None):\n",
    "    \"\"\"\n",
    "    Given the data specified by the indices, evaluate the model.\n",
    "    \n",
    "    Args:\n",
    "        model: TensorFlow model\n",
    "        sess: TensorFlow session\n",
    "        data: Cifar-10 test dataset\n",
    "        indices: The indices that specify the data\n",
    "        attack_method (optional): Instance of an attack method, If it is not None, the attack method is applied before\n",
    "        evaluation.\n",
    "    \n",
    "    Return\n",
    "        correct_prediction: NumPy array with the same shape as the indices. Given an index, 1 if the corresponding\n",
    "        sample is correctly classifed, 0 otherwise.\n",
    "    \"\"\"\n",
    "    \n",
    "    correct_predictions = np.zeros([0], np.int32)\n",
    "    \n",
    "    num_images = len(indices)\n",
    "    # batch_size set to 1 for NES attack\n",
    "    batch_size = 1\n",
    "    num_batches = int(math.ceil(num_images/batch_size))\n",
    "    \n",
    "    # Run batches\n",
    "    for batch in range(num_batches):\n",
    "        # Construct batch\n",
    "        bstart = batch*batch_size\n",
    "        bend = min(bstart+batch_size, num_images)\n",
    "        image_batch = data.xs[indices[bstart:bend]]\n",
    "        image_batch = np.int32(image_batch)\n",
    "        label_batch = data.ys[indices[bstart:bend]]\n",
    "        # Attack batch\n",
    "        if attack_method is not None:\n",
    "            image_batch = attack_method.perturb(image_batch, label_batch, sess)\n",
    "        # Evaluate batch\n",
    "        feed_dict = {\n",
    "            model.x_input: image_batch, \n",
    "            model.y_input: label_batch\n",
    "        }\n",
    "        correct_prediction = sess.run(model.correct_prediction, feed_dict=feed_dict)\n",
    "        correct_predictions = np.concatenate([correct_predictions, correct_prediction], axis=0)\n",
    "    \n",
    "    return correct_predictions\n",
    "\n",
    "# Evaluate the naturally-trained model on the first 1000 samples in the test dataset\n",
    "indices = np.arange(0, 1000)\n",
    "\n",
    "print('Evaluating naturally-trained model')\n",
    "correct_predictions = evaluate(model, sess, eval_data, indices)\n",
    "accuracy = np.mean(correct_predictions)*100\n",
    "print('Accuracy: {:.1f}%'.format(accuracy))\n",
    "\n",
    "# Select the first 100 samples that are correctly classified.\n",
    "correct_indices = np.where(correct_predictions==1)[0][:100]"
   ]
  },
  {
   "cell_type": "markdown",
   "metadata": {},
   "source": [
    "## Black-box attack with NES gradient estimation (NES)\n",
    "\n",
    "Now, we will implement NES attack, a black-box attack method proposed by [Ilyas et al.](https://arxiv.org/abs/1804.08598), which uses vector-wise gradient estimation technique called NES and then performs PGD with those estimated gradients.\n",
    "\n",
    "NES estimates the gradient by\n",
    "<center>$\\nabla_x L(\\theta, x, y) \\approx \\frac{1}{\\sigma n} \\sum_{i}^{n}(L(x+\\sigma u_i)-L(x-\\sigma u_i))u_i$</center>\n",
    "\n",
    "where each $u_i$ are image size random vectors sampled from standard normal distribution.\n",
    "\n",
    "\n",
    "Your code for this section will all be written inside `attacks/nes_attack`."
   ]
  },
  {
   "cell_type": "code",
   "execution_count": null,
   "metadata": {},
   "outputs": [],
   "source": [
    "# First implement NES attack.\n",
    "# Open attacks/nes_attack.py and follow instructions in the file.\n",
    "from attacks.nes_attack import NESAttack\n",
    "\n",
    "epsilon = 8\n",
    "step_size = 2\n",
    "num_steps = 20\n",
    "loss_func = 'xent'\n",
    "\n",
    "nes_attack = NESAttack(model, epsilon, step_size, num_steps, loss_func)\n",
    "\n",
    "sample_image = eval_data.xs[correct_indices[0]]\n",
    "sample_image = np.int32(sample_image)\n",
    "sample_image = np.expand_dims(sample_image, axis=0)\n",
    "sample_label = eval_data.ys[correct_indices[0]]\n",
    "sample_label = np.expand_dims(sample_label, axis=0)\n",
    "sample_adv_image = nes_attack.perturb(sample_image, sample_label, sess)\n",
    "feed_dict = {\n",
    "    model.x_input: sample_adv_image\n",
    "}\n",
    "sample_adv_label = sess.run(model.predictions, feed_dict=feed_dict)\n",
    "\n",
    "# Check if the adversarial image is valid\n",
    "assert np.amax(np.abs(sample_image-sample_adv_image)) <= epsilon\n",
    "assert np.amin(sample_adv_image) >= 0\n",
    "assert np.amax(sample_adv_image) <= 255\n",
    "\n",
    "# Plot the original image\n",
    "plt.subplot(1, 2, 1)\n",
    "plt.imshow(sample_image[0, ...].astype('uint8'))\n",
    "plt.axis('off')\n",
    "plt.title('original image ({})'.format(classes[sample_label[0]]))\n",
    "\n",
    "# Plot the adversarial image\n",
    "plt.subplot(1, 2, 2)\n",
    "plt.imshow(sample_adv_image[0, ...].astype('uint8'))\n",
    "plt.axis('off')\n",
    "plt.title('adversarial image ({})'.format(classes[sample_adv_label[0]]));"
   ]
  },
  {
   "cell_type": "markdown",
   "metadata": {},
   "source": [
    "# Evaluate performance on a naturally-trained model\n",
    "\n",
    "Let's measure your attack's performance to check if you implemented it right. Also watch the attack success rate change as epsilon gets larger. If correctly implemented, the success rate will be about 75% or higher on epsilon 8. (Keep in mind that NES attack in our implementation attacks one image at a time, so the evaluation will take much longer than FGSM or PGD. Evaluation on a single epsilon may take up to 10 min.)"
   ]
  },
  {
   "cell_type": "code",
   "execution_count": null,
   "metadata": {},
   "outputs": [],
   "source": [
    "epsilons = [2, 4, 6, 8, 10]\n",
    "attack_success_rates = []\n",
    "\n",
    "for epsilon in epsilons:\n",
    "    nes_attack = NESAttack(model, epsilon, step_size, num_steps, loss_func)\n",
    "    correct_predictions = evaluate(model, sess, eval_data, correct_indices, attack_method=nes_attack)\n",
    "    attack_success_rate = np.mean(1-correct_predictions)*100\n",
    "    attack_success_rates.append(attack_success_rate)\n",
    "    print('Epsilon: {}, Attack success rate: {:.1f}%'.format(epsilon, attack_success_rate))\n",
    "\n",
    "plt.plot(epsilons, attack_success_rates, '-bo', label='NES (xent loss)')\n",
    "plt.ylim(-5, 105)\n",
    "plt.xticks(epsilons)\n",
    "plt.yticks(np.arange(0, 110, 10))\n",
    "plt.xlabel('epsilon')\n",
    "plt.ylabel('attack success rate')\n",
    "plt.legend();"
   ]
  },
  {
   "cell_type": "markdown",
   "metadata": {},
   "source": [
    "# Attacks on adversarially-trained model"
   ]
  },
  {
   "cell_type": "code",
   "execution_count": null,
   "metadata": {},
   "outputs": [],
   "source": [
    "# Reset all graphs\n",
    "tf.reset_default_graph()\n",
    "\n",
    "# Create naturally-trained model\n",
    "model = Model(mode='eval')\n",
    "sess = tf.InteractiveSession()\n",
    "\n",
    "# Restore parameters\n",
    "ADV_MODEL_DIR = './models/adv_trained'\n",
    "model_file = tf.train.latest_checkpoint(ADV_MODEL_DIR)\n",
    "\n",
    "var_list = {}\n",
    "with tf.variable_scope('', reuse=True):\n",
    "  for var in tf.train.list_variables(model_file)[1:]:\n",
    "    if 'Momentum' not in var[0]:\n",
    "      var_list[var[0]] = tf.get_variable(name=var[0].replace('BatchNorm', 'batch_normalization'))\n",
    "\n",
    "saver = tf.train.Saver(var_list=var_list)\n",
    "saver.restore(sess, model_file)"
   ]
  },
  {
   "cell_type": "code",
   "execution_count": null,
   "metadata": {},
   "outputs": [],
   "source": [
    "# Check whether the model is successfully restored.\n",
    "indices = np.arange(0, 1000)\n",
    "correct_predictions = evaluate(model, sess, eval_data, indices)\n",
    "accuracy = np.mean(correct_predictions)*100\n",
    "print('Accuracy: {:.1f}%'.format(accuracy))\n",
    "\n",
    "# Select the indices of the first 100 images that are correctly classified.\n",
    "correct_indices = np.where(correct_predictions==1)[0][:100]"
   ]
  },
  {
   "cell_type": "markdown",
   "metadata": {},
   "source": [
    "# Evaluate performance on an adversarially-trained model\n",
    "\n",
    "This time you will check the same attack's performance on an adversarially-trained model. Check for differences on the success rate."
   ]
  },
  {
   "cell_type": "code",
   "execution_count": null,
   "metadata": {},
   "outputs": [],
   "source": [
    "epsilons = [2, 4, 6, 8, 10]\n",
    "attack_success_rates = []\n",
    "\n",
    "for epsilon in epsilons:\n",
    "    nes_attack = NESAttack(model, epsilon, step_size, num_steps, loss_func)\n",
    "    correct_predictions = evaluate(model, sess, eval_data, correct_indices, attack_method=nes_attack)\n",
    "    attack_success_rate = np.mean(1-correct_predictions)*100\n",
    "    attack_success_rates.append(attack_success_rate)\n",
    "    print('Epsilon: {}, Attack success rate: {:.1f}%'.format(epsilon, attack_success_rate))\n",
    "\n",
    "plt.plot(epsilons, attack_success_rates, '-bo', label='NES (xent loss)')\n",
    "plt.ylim(-5, 105)\n",
    "plt.xticks(epsilons)\n",
    "plt.yticks(np.arange(0, 110, 10))\n",
    "plt.xlabel('epsilon')\n",
    "plt.ylabel('attack success rate')\n",
    "plt.legend();"
   ]
  }
 ],
 "metadata": {
  "anaconda-cloud": {},
  "kernelspec": {
   "display_name": "Python 3",
   "language": "python",
   "name": "python3"
  },
  "language_info": {
   "codemirror_mode": {
    "name": "ipython",
    "version": 3
   },
   "file_extension": ".py",
   "mimetype": "text/x-python",
   "name": "python",
   "nbconvert_exporter": "python",
   "pygments_lexer": "ipython3",
   "version": "3.7.3"
  }
 },
 "nbformat": 4,
 "nbformat_minor": 2
}
